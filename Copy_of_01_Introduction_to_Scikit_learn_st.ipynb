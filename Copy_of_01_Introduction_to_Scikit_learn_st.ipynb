{
  "nbformat": 4,
  "nbformat_minor": 0,
  "metadata": {
    "anaconda-cloud": {},
    "kernelspec": {
      "display_name": "Python 3",
      "language": "python",
      "name": "python3"
    },
    "language_info": {
      "codemirror_mode": {
        "name": "ipython",
        "version": 3
      },
      "file_extension": ".py",
      "mimetype": "text/x-python",
      "name": "python",
      "nbconvert_exporter": "python",
      "pygments_lexer": "ipython3",
      "version": "3.8.5"
    },
    "colab": {
      "name": "Copy of 01 - Introduction to Scikit-learn-st.ipynb",
      "provenance": [],
      "collapsed_sections": [],
      "include_colab_link": true
    }
  },
  "cells": [
    {
      "cell_type": "markdown",
      "metadata": {
        "id": "view-in-github",
        "colab_type": "text"
      },
      "source": [
        "<a href=\"https://colab.research.google.com/github/ak1920/ML/blob/master/Copy_of_01_Introduction_to_Scikit_learn_st.ipynb\" target=\"_parent\"><img src=\"https://colab.research.google.com/assets/colab-badge.svg\" alt=\"Open In Colab\"/></a>"
      ]
    },
    {
      "cell_type": "markdown",
      "metadata": {
        "id": "y9VRJIvUvTXA"
      },
      "source": [
        "# I. Introduction to Scikit-learn"
      ]
    },
    {
      "cell_type": "markdown",
      "metadata": {
        "id": "MHho3QWSvTXE"
      },
      "source": [
        "### Step 1. Import the necessary libraries"
      ]
    },
    {
      "cell_type": "code",
      "metadata": {
        "id": "8cKkdy1cvTXE"
      },
      "source": [
        "import matplotlib.pyplot as plt\n",
        "import numpy as np\n",
        "%matplotlib inline"
      ],
      "execution_count": 2,
      "outputs": []
    },
    {
      "cell_type": "markdown",
      "metadata": {
        "id": "A-XmeG68vTXG"
      },
      "source": [
        "### Step 2. Import one of the toy datasets (digits) from Scikitlearn\n",
        "This is a copy of the test set of the UCI ML hand-written digits datasets https://archive.ics.uci.edu/ml/datasets/Optical+Recognition+of+Handwritten+Digits\n",
        "\n",
        "The data set contains images of hand-written digits: 10 classes where each class refers to a digit.\n",
        "\n",
        "Each datapoint is a 8x8 image of a digit, Classes=10, Samples per class~180, \n",
        "\n",
        "Samples total=1797, Dimensionality=64, and Features=(integers 0-16)\n",
        "\n",
        "\n",
        "After importing this dataset, split it into test and train sets. You may check the shape of data and the target attributes of the dataset. You may also want to print a few samples from the dataset."
      ]
    },
    {
      "cell_type": "code",
      "metadata": {
        "id": "igj93dbxvTXH"
      },
      "source": [
        "from sklearn.datasets import load_digits\n",
        "digits = load_digits()"
      ],
      "execution_count": 3,
      "outputs": []
    },
    {
      "cell_type": "code",
      "metadata": {
        "id": "CuY_K5Jwvsjt",
        "colab": {
          "base_uri": "https://localhost:8080/"
        },
        "outputId": "98636afb-bc65-4115-8f16-88d8acab2d1a"
      },
      "source": [
        "digits.keys()"
      ],
      "execution_count": 4,
      "outputs": [
        {
          "output_type": "execute_result",
          "data": {
            "text/plain": [
              "dict_keys(['data', 'target', 'target_names', 'images', 'DESCR'])"
            ]
          },
          "metadata": {},
          "execution_count": 4
        }
      ]
    },
    {
      "cell_type": "code",
      "metadata": {
        "id": "oFBUyI3kvyne",
        "colab": {
          "base_uri": "https://localhost:8080/"
        },
        "outputId": "df2c1669-3cbb-4054-96a5-323b34855ae1"
      },
      "source": [
        "X = digits.data\n",
        "y = digits.target\n",
        "\n",
        "X.shape"
      ],
      "execution_count": 5,
      "outputs": [
        {
          "output_type": "execute_result",
          "data": {
            "text/plain": [
              "(1797, 64)"
            ]
          },
          "metadata": {},
          "execution_count": 5
        }
      ]
    },
    {
      "cell_type": "code",
      "metadata": {
        "id": "srtXa7jivyrt",
        "colab": {
          "base_uri": "https://localhost:8080/"
        },
        "outputId": "1665dcd6-54a1-4295-a18f-bff9ae9128ac"
      },
      "source": [
        "y[30:40]"
      ],
      "execution_count": 6,
      "outputs": [
        {
          "output_type": "execute_result",
          "data": {
            "text/plain": [
              "array([0, 9, 5, 5, 6, 5, 0, 9, 8, 9])"
            ]
          },
          "metadata": {},
          "execution_count": 6
        }
      ]
    },
    {
      "cell_type": "code",
      "metadata": {
        "colab": {
          "base_uri": "https://localhost:8080/"
        },
        "id": "Cp1mbWZrwWMF",
        "outputId": "275b9ba8-fc3d-4148-dbb7-ea1d93a7a47e"
      },
      "source": [
        "np.bincount(y)"
      ],
      "execution_count": 7,
      "outputs": [
        {
          "output_type": "execute_result",
          "data": {
            "text/plain": [
              "array([178, 182, 177, 183, 181, 182, 181, 179, 174, 180])"
            ]
          },
          "metadata": {},
          "execution_count": 7
        }
      ]
    },
    {
      "cell_type": "code",
      "metadata": {
        "id": "DR8Rmnhmwa3Z"
      },
      "source": [
        "from sklearn.model_selection import train_test_split\n",
        "X_train, X_test, y_train, y_test = train_test_split(X,y,random_state=0)"
      ],
      "execution_count": 8,
      "outputs": []
    },
    {
      "cell_type": "code",
      "metadata": {
        "colab": {
          "base_uri": "https://localhost:8080/"
        },
        "id": "yzB6P5rBwx4K",
        "outputId": "24538050-4940-4868-d090-645644d1ecd9"
      },
      "source": [
        "np.bincount(y_train)"
      ],
      "execution_count": 11,
      "outputs": [
        {
          "output_type": "execute_result",
          "data": {
            "text/plain": [
              "array([141, 139, 133, 138, 143, 134, 129, 131, 126, 133])"
            ]
          },
          "metadata": {},
          "execution_count": 11
        }
      ]
    },
    {
      "cell_type": "code",
      "metadata": {
        "id": "ZWCgswQIxHXs"
      },
      "source": [
        "X_train, X_test, y_train, y_test = train_test_split(X,y,stratify=y, random_state=0)"
      ],
      "execution_count": 13,
      "outputs": []
    },
    {
      "cell_type": "code",
      "metadata": {
        "colab": {
          "base_uri": "https://localhost:8080/"
        },
        "id": "q-HO1uwdw5SE",
        "outputId": "1215d731-4ab6-4213-d013-3d2c79dd8d7c"
      },
      "source": [
        "np.bincount(y_train)"
      ],
      "execution_count": 14,
      "outputs": [
        {
          "output_type": "execute_result",
          "data": {
            "text/plain": [
              "array([133, 136, 133, 137, 136, 136, 136, 134, 131, 135])"
            ]
          },
          "metadata": {},
          "execution_count": 14
        }
      ]
    },
    {
      "cell_type": "code",
      "metadata": {
        "colab": {
          "base_uri": "https://localhost:8080/"
        },
        "id": "mZvcM74dxF9j",
        "outputId": "4b690154-d8f1-428a-c978-55c23c7c1611"
      },
      "source": [
        "X_train[0,:]"
      ],
      "execution_count": 15,
      "outputs": [
        {
          "output_type": "execute_result",
          "data": {
            "text/plain": [
              "array([ 0.,  0.,  0., 10., 12., 15., 16., 13.,  0.,  0.,  6., 15.,  6.,\n",
              "        4., 14.,  9.,  0.,  0., 10.,  6.,  0.,  3., 14.,  2.,  0.,  1.,\n",
              "       14.,  1.,  0., 12.,  6.,  0.,  0.,  0.,  3.,  0.,  5., 13.,  0.,\n",
              "        0.,  0.,  0.,  0.,  1., 13.,  3.,  0.,  0.,  0.,  0.,  0.,  6.,\n",
              "       13.,  0.,  0.,  0.,  0.,  0.,  0., 14.,  6.,  0.,  0.,  0.])"
            ]
          },
          "metadata": {},
          "execution_count": 15
        }
      ]
    },
    {
      "cell_type": "code",
      "metadata": {
        "colab": {
          "base_uri": "https://localhost:8080/"
        },
        "id": "tt4AXH5pxGAi",
        "outputId": "18ee4f5c-b1d9-4424-fcef-ec848c6b06fa"
      },
      "source": [
        "y_train[0]"
      ],
      "execution_count": 16,
      "outputs": [
        {
          "output_type": "execute_result",
          "data": {
            "text/plain": [
              "7"
            ]
          },
          "metadata": {},
          "execution_count": 16
        }
      ]
    },
    {
      "cell_type": "code",
      "metadata": {
        "id": "sddpSPhtxGL3"
      },
      "source": [
        ""
      ],
      "execution_count": null,
      "outputs": []
    },
    {
      "cell_type": "markdown",
      "metadata": {
        "id": "cyv5ln15vTXH"
      },
      "source": [
        "# II. Sklearn API for model training\n",
        "-------------------\n",
        "### Step 1. Import your model class\n",
        "\n",
        "As an example, let us `LinearSVC`, a linear support vector classifier. This classifier is imprted from `sklearn.svm` module which includes Support Vector Machine algorithms."
      ]
    },
    {
      "cell_type": "code",
      "metadata": {
        "id": "zecmIQDdxCG-"
      },
      "source": [
        "from sklearn.svm import LinearSVC\n"
      ],
      "execution_count": 18,
      "outputs": []
    },
    {
      "cell_type": "code",
      "metadata": {
        "id": "ky9PXHbXxCMr"
      },
      "source": [
        ""
      ],
      "execution_count": null,
      "outputs": []
    },
    {
      "cell_type": "code",
      "metadata": {
        "id": "OLagLtxOxDTO"
      },
      "source": [
        ""
      ],
      "execution_count": null,
      "outputs": []
    },
    {
      "cell_type": "code",
      "metadata": {
        "id": "TNYdbSFpvTXI"
      },
      "source": [
        ""
      ],
      "execution_count": null,
      "outputs": []
    },
    {
      "cell_type": "markdown",
      "metadata": {
        "id": "fezafUB-vTXJ"
      },
      "source": [
        "### Step2. Instantiate an object and set the parameters"
      ]
    },
    {
      "cell_type": "code",
      "metadata": {
        "id": "pVH2PeIKvTXJ"
      },
      "source": [
        "svm = LinearSVC()"
      ],
      "execution_count": 19,
      "outputs": []
    },
    {
      "cell_type": "markdown",
      "metadata": {
        "id": "ggC2YACPvTXK"
      },
      "source": [
        "### Step 3. Fit the model\n",
        "When fitting the model, use the train dataset."
      ]
    },
    {
      "cell_type": "code",
      "metadata": {
        "id": "_XL4ArvWvTXL",
        "colab": {
          "base_uri": "https://localhost:8080/"
        },
        "outputId": "2a2f00df-35c6-4ce9-d8c3-2b575f88bb6f"
      },
      "source": [
        "svm.fit(X_train, y_train)"
      ],
      "execution_count": 20,
      "outputs": [
        {
          "output_type": "stream",
          "text": [
            "/usr/local/lib/python3.7/dist-packages/sklearn/svm/_base.py:947: ConvergenceWarning: Liblinear failed to converge, increase the number of iterations.\n",
            "  \"the number of iterations.\", ConvergenceWarning)\n"
          ],
          "name": "stderr"
        },
        {
          "output_type": "execute_result",
          "data": {
            "text/plain": [
              "LinearSVC(C=1.0, class_weight=None, dual=True, fit_intercept=True,\n",
              "          intercept_scaling=1, loss='squared_hinge', max_iter=1000,\n",
              "          multi_class='ovr', penalty='l2', random_state=None, tol=0.0001,\n",
              "          verbose=0)"
            ]
          },
          "metadata": {},
          "execution_count": 20
        }
      ]
    },
    {
      "cell_type": "markdown",
      "metadata": {
        "id": "r96qerO5vTXL"
      },
      "source": [
        "### Step 4. Predict and Evaluate\n",
        "Use the test set for this purpose, for now."
      ]
    },
    {
      "cell_type": "code",
      "metadata": {
        "id": "VdLoR1JFvTXM",
        "colab": {
          "base_uri": "https://localhost:8080/"
        },
        "outputId": "772b1865-5e03-4517-b9dc-e0a305c0cc82"
      },
      "source": [
        "print(svm.predict(X_train[:10,:]))\n",
        "print(y_train[:10])"
      ],
      "execution_count": 22,
      "outputs": [
        {
          "output_type": "stream",
          "text": [
            "[7 3 6 6 7 6 7 9 2 9]\n",
            "[7 3 6 6 7 6 7 9 2 9]\n"
          ],
          "name": "stdout"
        }
      ]
    },
    {
      "cell_type": "code",
      "metadata": {
        "colab": {
          "base_uri": "https://localhost:8080/"
        },
        "id": "Kn19THSmyoGs",
        "outputId": "194b9ca8-5f16-4e88-9519-7b3c0ad2dac7"
      },
      "source": [
        "svm.score(X_train, y_train)"
      ],
      "execution_count": 23,
      "outputs": [
        {
          "output_type": "execute_result",
          "data": {
            "text/plain": [
              "0.9925760950259837"
            ]
          },
          "metadata": {},
          "execution_count": 23
        }
      ]
    },
    {
      "cell_type": "code",
      "metadata": {
        "colab": {
          "base_uri": "https://localhost:8080/"
        },
        "id": "LiE5aSWvyspK",
        "outputId": "e77d8f15-3c0c-4312-b854-45c6d6464654"
      },
      "source": [
        "svm.score(X_test, y_test)"
      ],
      "execution_count": 24,
      "outputs": [
        {
          "output_type": "execute_result",
          "data": {
            "text/plain": [
              "0.94"
            ]
          },
          "metadata": {},
          "execution_count": 24
        }
      ]
    },
    {
      "cell_type": "markdown",
      "metadata": {
        "id": "X0WMXs-BvTXM"
      },
      "source": [
        "### Step5. Try another Algorithm\n",
        "Try `RandomForestCLassifier` this time, import it from `sklearn.ensemble` module."
      ]
    },
    {
      "cell_type": "code",
      "metadata": {
        "id": "RmXAD3xmvTXN"
      },
      "source": [
        "from sklearn.ensemble import RandomForestClassifier"
      ],
      "execution_count": 25,
      "outputs": []
    },
    {
      "cell_type": "code",
      "metadata": {
        "id": "XjPp0jPXzCzp"
      },
      "source": [
        "rf = RandomForestClassifier(n_estimators=50)"
      ],
      "execution_count": 26,
      "outputs": []
    },
    {
      "cell_type": "code",
      "metadata": {
        "colab": {
          "base_uri": "https://localhost:8080/"
        },
        "id": "A1lC_sWqzC2i",
        "outputId": "186f71fb-89ab-42fd-ba92-8f92ac375d5d"
      },
      "source": [
        "rf.fit(X_train, y_train)"
      ],
      "execution_count": 27,
      "outputs": [
        {
          "output_type": "execute_result",
          "data": {
            "text/plain": [
              "RandomForestClassifier(bootstrap=True, ccp_alpha=0.0, class_weight=None,\n",
              "                       criterion='gini', max_depth=None, max_features='auto',\n",
              "                       max_leaf_nodes=None, max_samples=None,\n",
              "                       min_impurity_decrease=0.0, min_impurity_split=None,\n",
              "                       min_samples_leaf=1, min_samples_split=2,\n",
              "                       min_weight_fraction_leaf=0.0, n_estimators=50,\n",
              "                       n_jobs=None, oob_score=False, random_state=None,\n",
              "                       verbose=0, warm_start=False)"
            ]
          },
          "metadata": {},
          "execution_count": 27
        }
      ]
    },
    {
      "cell_type": "code",
      "metadata": {
        "colab": {
          "base_uri": "https://localhost:8080/"
        },
        "id": "RbFLtAXczWlR",
        "outputId": "a96d1ed5-4dec-4577-e6d9-d9cd329e937d"
      },
      "source": [
        "print(rf.score(X_train, y_train))\n",
        "print(rf.score(X_test, y_test))"
      ],
      "execution_count": 28,
      "outputs": [
        {
          "output_type": "stream",
          "text": [
            "1.0\n",
            "0.9733333333333334\n"
          ],
          "name": "stdout"
        }
      ]
    },
    {
      "cell_type": "markdown",
      "metadata": {
        "id": "pm4kjAxyvTXO"
      },
      "source": [
        "# II. Cross-validation"
      ]
    },
    {
      "cell_type": "code",
      "metadata": {
        "id": "MlJbO-u6vTXO"
      },
      "source": [
        ""
      ],
      "execution_count": null,
      "outputs": []
    },
    {
      "cell_type": "markdown",
      "metadata": {
        "id": "zJJy7ipQvTXO"
      },
      "source": [
        "Learning the parameters of a prediction function and testing it on the same data is a methodological mistake: a model that would just repeat the labels of the samples that it has just seen would have a perfect score but would fail to predict anything useful on yet-unseen data. This situation is called overfitting. To avoid it, it is common practice when performing a (supervised) machine learning experiment to hold out part of the available data as a test set X_test, y_test. \n",
        "\n",
        "When evaluating different settings (“hyperparameters”) for estimators, there is still a risk of overfitting on the test set because the parameters can be tweaked until the estimator performs optimally. This way, knowledge about the test set can “leak” into the model and evaluation metrics no longer report on generalization performance. To solve this problem, yet another part of the dataset can be held out as a so-called “validation set”: training proceeds on the training set, after which evaluation is done on the validation set, and when the experiment seems to be successful, final evaluation can be done on the test set.\n",
        "\n",
        "However, by partitioning the available data into three sets, we drastically reduce the number of samples which can be used for learning the model, and the results can depend on a particular random choice for the pair of (train, validation) sets.\n",
        "\n",
        "A solution to this problem is a procedure called cross-validation (CV for short). A test set should still be held out for final evaluation, but the validation set is no longer needed when doing CV. In the basic approach, called k-fold CV, the training set is split into k smaller sets (other approaches are described below, but generally follow the same principles). The following procedure is followed for each of the k “folds”:\n",
        "\n",
        "A model is trained using  of the folds as training data; the resulting model is validated on the remaining part of the data (i.e., it is used as a test set to compute a performance measure such as accuracy).\n",
        "\n",
        "The performance measure reported by k-fold cross-validation is then the average of the values computed in the loop. This approach can be computationally expensive, but does not waste too much data (as is the case when fixing an arbitrary validation set), which is a major advantage in problems such as inverse inference where the number of samples is very small.\n",
        "(Check https://scikit-learn.org/stable/modules/cross_validation.html#cross-validation)"
      ]
    },
    {
      "cell_type": "code",
      "metadata": {
        "id": "j3Jh6mPavTXP"
      },
      "source": [
        "from sklearn.model_selection import cross_val_score\n",
        "from sklearn.neighbors import KNeighborsClassifier"
      ],
      "execution_count": 29,
      "outputs": []
    },
    {
      "cell_type": "code",
      "metadata": {
        "colab": {
          "base_uri": "https://localhost:8080/"
        },
        "id": "bBvhvS1Zz0Ls",
        "outputId": "f700a981-3782-4a08-c8e9-ef7474c1f05b"
      },
      "source": [
        "scores = cross_val_score(KNeighborsClassifier(), X_train, y_train, cv=5)\n",
        "print(scores)\n",
        "    "
      ],
      "execution_count": 30,
      "outputs": [
        {
          "output_type": "stream",
          "text": [
            "[0.98148148 0.97777778 0.98513011 0.98513011 0.98513011]\n"
          ],
          "name": "stdout"
        }
      ]
    },
    {
      "cell_type": "code",
      "metadata": {
        "colab": {
          "base_uri": "https://localhost:8080/"
        },
        "id": "INgKNTOcz1Ww",
        "outputId": "d3f1d481-e7b3-4b8c-ac96-e4f8fe83acb1"
      },
      "source": [
        "print(\"Accuracy of Model: {:2f}(+/-{:.2f})\". format(scores.mean(), scores.std()*2))"
      ],
      "execution_count": 34,
      "outputs": [
        {
          "output_type": "stream",
          "text": [
            "Accuracy of Model: 0.982930(+/-0.01)\n"
          ],
          "name": "stdout"
        }
      ]
    },
    {
      "cell_type": "code",
      "metadata": {
        "id": "WymteHmT09TP"
      },
      "source": [
        "from sklearn.model_selection import KFold, StratifiedKFold"
      ],
      "execution_count": 35,
      "outputs": []
    },
    {
      "cell_type": "code",
      "metadata": {
        "id": "b78b3hCF09WB"
      },
      "source": [
        "kfold= KFold(n_splits=10, shuffle=True, random_state=10)\n",
        "skfold = StratifiedKFold(n_splits=10, shuffle=True, random_state=10)"
      ],
      "execution_count": 36,
      "outputs": []
    },
    {
      "cell_type": "code",
      "metadata": {
        "id": "3SB23MPH1caq"
      },
      "source": [
        "scores_kfold = cross_val_score(KNeighborsClassifier(), X_train, y_train, cv=kfold)\n",
        "scores_skfold = cross_val_score(KNeighborsClassifier(), X_train, y_train, cv=skfold)"
      ],
      "execution_count": 40,
      "outputs": []
    },
    {
      "cell_type": "code",
      "metadata": {
        "colab": {
          "base_uri": "https://localhost:8080/"
        },
        "id": "fXIXFU5Y1Wr5",
        "outputId": "b12f65dd-28b4-4b14-c7c3-ed8d4876df6e"
      },
      "source": [
        "print(\"Accuracy of Model with kfold: {:2f}(+/-{:.2f})\". format(scores_kfold.mean(), scores_kfold.std()*2))"
      ],
      "execution_count": 41,
      "outputs": [
        {
          "output_type": "stream",
          "text": [
            "Accuracy of Model with kfold: 0.985904(+/-0.02)\n"
          ],
          "name": "stdout"
        }
      ]
    },
    {
      "cell_type": "code",
      "metadata": {
        "colab": {
          "base_uri": "https://localhost:8080/"
        },
        "id": "44Pn1rv31W0Q",
        "outputId": "fc5bfd3c-4808-4376-fb99-0b2396b6b1ec"
      },
      "source": [
        "print(\"Accuracy of Model with skfold: {:2f}(+/-{:.2f})\". format(scores_skfold.mean(), scores_skfold.std()*2))"
      ],
      "execution_count": 42,
      "outputs": [
        {
          "output_type": "stream",
          "text": [
            "Accuracy of Model with skfold: 0.985158(+/-0.02)\n"
          ],
          "name": "stdout"
        }
      ]
    },
    {
      "cell_type": "markdown",
      "metadata": {
        "id": "NbV16TKivTXP"
      },
      "source": [
        "Grid Searches\n",
        "=================\n",
        "Exhaustive search over specified parameter values for an estimator.\n",
        "\n",
        "Important members are fit, predict.\n",
        "\n",
        "GridSearchCV implements a “fit” and a “score” method. It also implements “predict”, “predict_proba”, “decision_function”, “transform” and “inverse_transform” if they are implemented in the estimator used.\n",
        "\n",
        "The parameters of the estimator used to apply these methods are optimized by cross-validated grid-search over a parameter grid.\n",
        "\n",
        "See (https://scikit-learn.org/stable/modules/generated/sklearn.model_selection.GridSearchCV.html)"
      ]
    },
    {
      "cell_type": "markdown",
      "metadata": {
        "id": "4HM75iyRvTXQ"
      },
      "source": [
        "Grid-Search with build-in cross validation"
      ]
    },
    {
      "cell_type": "markdown",
      "metadata": {
        "id": "hsVHFeLfvTXQ"
      },
      "source": [
        "A GridSearchCV object behaves just like a normal classifier."
      ]
    },
    {
      "cell_type": "code",
      "metadata": {
        "id": "g9eIJ-NNvTXR"
      },
      "source": [
        "from sklearn.model_selection import GridSearchCV\n",
        "from sklearn.svm import SVC"
      ],
      "execution_count": 43,
      "outputs": []
    },
    {
      "cell_type": "code",
      "metadata": {
        "id": "jF70kXBn2KVK"
      },
      "source": [
        "import numpy as np"
      ],
      "execution_count": 46,
      "outputs": []
    },
    {
      "cell_type": "code",
      "metadata": {
        "colab": {
          "base_uri": "https://localhost:8080/"
        },
        "id": "onnamKw-21Rz",
        "outputId": "01a6e0e2-c762-4ee7-a389-8dc3a7f57846"
      },
      "source": [
        "10.**np.arange(-3,3)"
      ],
      "execution_count": 47,
      "outputs": [
        {
          "output_type": "execute_result",
          "data": {
            "text/plain": [
              "array([1.e-03, 1.e-02, 1.e-01, 1.e+00, 1.e+01, 1.e+02])"
            ]
          },
          "metadata": {},
          "execution_count": 47
        }
      ]
    },
    {
      "cell_type": "code",
      "metadata": {
        "id": "UvkKbI_O2Kd-"
      },
      "source": [
        "param_grid = {'C': 10.**np.arange(-3,3),\n",
        "              'gamma': 10.**np.arange(-5,0)}"
      ],
      "execution_count": 50,
      "outputs": []
    },
    {
      "cell_type": "code",
      "metadata": {
        "colab": {
          "base_uri": "https://localhost:8080/"
        },
        "id": "K-8TCt9J3LT9",
        "outputId": "b165ca4c-a694-44b8-9209-4f07232cdac0"
      },
      "source": [
        "np.logspace(-3,3,6, endpoint=False)"
      ],
      "execution_count": 51,
      "outputs": [
        {
          "output_type": "execute_result",
          "data": {
            "text/plain": [
              "array([1.e-03, 1.e-02, 1.e-01, 1.e+00, 1.e+01, 1.e+02])"
            ]
          },
          "metadata": {},
          "execution_count": 51
        }
      ]
    },
    {
      "cell_type": "code",
      "metadata": {
        "id": "B9mZaSKf3LWx"
      },
      "source": [
        ""
      ],
      "execution_count": null,
      "outputs": []
    },
    {
      "cell_type": "code",
      "metadata": {
        "colab": {
          "base_uri": "https://localhost:8080/"
        },
        "id": "l7u89UPR2KhO",
        "outputId": "104efa94-9248-4d09-a393-df736da04470"
      },
      "source": [
        "print(param_grid)"
      ],
      "execution_count": 49,
      "outputs": [
        {
          "output_type": "stream",
          "text": [
            "{'C': array([1.e-03, 1.e-02, 1.e-01, 1.e+00, 1.e+01, 1.e+02]), 'gamma': array([1.e-05, 1.e-04, 1.e-03, 1.e-02, 1.e-01])}\n"
          ],
          "name": "stdout"
        }
      ]
    },
    {
      "cell_type": "code",
      "metadata": {
        "id": "pQwxxYsc2KkL"
      },
      "source": [
        "grid_search= GridSearchCV(SVC(), param_grid, cv=5, return_train_score=True)"
      ],
      "execution_count": 53,
      "outputs": []
    },
    {
      "cell_type": "code",
      "metadata": {
        "colab": {
          "base_uri": "https://localhost:8080/"
        },
        "id": "XTBEn2IE4Qip",
        "outputId": "bb6b97a7-9c59-4bd0-d3a9-85d0088199cb"
      },
      "source": [
        "grid_search"
      ],
      "execution_count": 54,
      "outputs": [
        {
          "output_type": "execute_result",
          "data": {
            "text/plain": [
              "GridSearchCV(cv=5, error_score=nan,\n",
              "             estimator=SVC(C=1.0, break_ties=False, cache_size=200,\n",
              "                           class_weight=None, coef0=0.0,\n",
              "                           decision_function_shape='ovr', degree=3,\n",
              "                           gamma='scale', kernel='rbf', max_iter=-1,\n",
              "                           probability=False, random_state=None, shrinking=True,\n",
              "                           tol=0.001, verbose=False),\n",
              "             iid='deprecated', n_jobs=None,\n",
              "             param_grid={'C': array([1.e-03, 1.e-02, 1.e-01, 1.e+00, 1.e+01, 1.e+02]),\n",
              "                         'gamma': array([1.e-05, 1.e-04, 1.e-03, 1.e-02, 1.e-01])},\n",
              "             pre_dispatch='2*n_jobs', refit=True, return_train_score=True,\n",
              "             scoring=None, verbose=0)"
            ]
          },
          "metadata": {},
          "execution_count": 54
        }
      ]
    },
    {
      "cell_type": "code",
      "metadata": {
        "id": "Eja-j_nB4QlP"
      },
      "source": [
        "mygrid = grid_search.fit(X_train, y_train)"
      ],
      "execution_count": 55,
      "outputs": []
    },
    {
      "cell_type": "code",
      "metadata": {
        "id": "XFNWDmoC4hrO"
      },
      "source": [
        "import pandas as pd\n"
      ],
      "execution_count": 58,
      "outputs": []
    },
    {
      "cell_type": "code",
      "metadata": {
        "id": "RKOBW0rW4lY0"
      },
      "source": [
        ""
      ],
      "execution_count": null,
      "outputs": []
    },
    {
      "cell_type": "code",
      "metadata": {
        "colab": {
          "base_uri": "https://localhost:8080/",
          "height": 164
        },
        "id": "gDQ1Wtk14h2E",
        "outputId": "2b06e7d5-3c17-4d58-bc42-c18e4a9bf538"
      },
      "source": [
        "GridResultdf.columns"
      ],
      "execution_count": 56,
      "outputs": [
        {
          "output_type": "error",
          "ename": "NameError",
          "evalue": "ignored",
          "traceback": [
            "\u001b[0;31m---------------------------------------------------------------------------\u001b[0m",
            "\u001b[0;31mNameError\u001b[0m                                 Traceback (most recent call last)",
            "\u001b[0;32m<ipython-input-56-0b0834ff17a8>\u001b[0m in \u001b[0;36m<module>\u001b[0;34m()\u001b[0m\n\u001b[0;32m----> 1\u001b[0;31m \u001b[0mGridResultdf\u001b[0m\u001b[0;34m.\u001b[0m\u001b[0mcolumns\u001b[0m\u001b[0;34m\u001b[0m\u001b[0;34m\u001b[0m\u001b[0m\n\u001b[0m",
            "\u001b[0;31mNameError\u001b[0m: name 'GridResultdf' is not defined"
          ]
        }
      ]
    },
    {
      "cell_type": "code",
      "metadata": {
        "id": "SNxt0jaE4t06"
      },
      "source": [
        "predictions = grid_search.predict(X_test)"
      ],
      "execution_count": null,
      "outputs": []
    },
    {
      "cell_type": "code",
      "metadata": {
        "id": "roSWiq1Y4t3s"
      },
      "source": [
        "print(\"{:.2f}\".format(grid_search.score(X_test, y_test)))"
      ],
      "execution_count": null,
      "outputs": []
    },
    {
      "cell_type": "code",
      "metadata": {
        "id": "2GNfMtle4t6S"
      },
      "source": [
        "grid_search.best_params_"
      ],
      "execution_count": null,
      "outputs": []
    },
    {
      "cell_type": "code",
      "metadata": {
        "id": "ki24cs4o5Dp-"
      },
      "source": [
        "grid_search.best_score_"
      ],
      "execution_count": null,
      "outputs": []
    },
    {
      "cell_type": "code",
      "metadata": {
        "colab": {
          "base_uri": "https://localhost:8080/",
          "height": 164
        },
        "id": "Dv-5gpfi5Dsy",
        "outputId": "3387b7e4-c180-4165-c71c-63dc26a58502"
      },
      "source": [
        "scores = grid_search.cv_results_('mean_test_score')"
      ],
      "execution_count": 57,
      "outputs": [
        {
          "output_type": "error",
          "ename": "TypeError",
          "evalue": "ignored",
          "traceback": [
            "\u001b[0;31m---------------------------------------------------------------------------\u001b[0m",
            "\u001b[0;31mTypeError\u001b[0m                                 Traceback (most recent call last)",
            "\u001b[0;32m<ipython-input-57-f4c10d72dc4f>\u001b[0m in \u001b[0;36m<module>\u001b[0;34m()\u001b[0m\n\u001b[0;32m----> 1\u001b[0;31m \u001b[0mscores\u001b[0m \u001b[0;34m=\u001b[0m \u001b[0mgrid_search\u001b[0m\u001b[0;34m.\u001b[0m\u001b[0mcv_results_\u001b[0m\u001b[0;34m(\u001b[0m\u001b[0;34m'mean_test_score'\u001b[0m\u001b[0;34m)\u001b[0m\u001b[0;34m\u001b[0m\u001b[0;34m\u001b[0m\u001b[0m\n\u001b[0m",
            "\u001b[0;31mTypeError\u001b[0m: 'dict' object is not callable"
          ]
        }
      ]
    },
    {
      "cell_type": "code",
      "metadata": {
        "id": "RYtUePQC5tT0"
      },
      "source": [
        "plt.matshow(scores, cmap = plt.cm.BuPu_r)\n",
        "plt.colorbar()\n",
        "plt.show()"
      ],
      "execution_count": null,
      "outputs": []
    },
    {
      "cell_type": "code",
      "metadata": {
        "id": "DBdERlVp5tXF"
      },
      "source": [
        ""
      ],
      "execution_count": null,
      "outputs": []
    }
  ]
}